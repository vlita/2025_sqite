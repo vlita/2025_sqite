{
 "cells": [
  {
   "cell_type": "code",
   "execution_count": null,
   "metadata": {},
   "outputs": [],
   "source": [
    "import numpy as np\n",
    "import qforte as qf\n",
    "import matplotlib.pyplot as plt\n",
    "\n",
    "from run_job import run_qite\n",
    "\n",
    "from geometries.ene import get_geom as ene"
   ]
  },
  {
   "cell_type": "code",
   "execution_count": null,
   "metadata": {},
   "outputs": [],
   "source": [
    "e_path = '/home/vlita/Desktop/rsrch/2025_sqite/ene/eight/'\n",
    "t_path = '/home/vlita/Desktop/rsrch/2025_sqite/ene/twelve/'"
   ]
  },
  {
   "cell_type": "code",
   "execution_count": null,
   "metadata": {},
   "outputs": [],
   "source": [
    "theta_1 = 1.0e-5\n",
    "theta_2 = 1.0e-6\n",
    "theta_3 = 1.0e-7"
   ]
  },
  {
   "cell_type": "code",
   "execution_count": null,
   "metadata": {},
   "outputs": [],
   "source": [
    "print('\\nBuild Geometry')\n",
    "print('-------------------------')\n",
    "\n",
    "symm_str = 'c1'\n",
    "fdocc = 0\n",
    "fuocc = 0\n",
    "\n",
    "basis_set = 'cc-pvdz'\n",
    "avas_atoms_and_atomic_orbs = ['C 2pz']\n",
    "\n",
    "## ====> Build Qforte Mol with PySCF (using AVAS) <==== ###\n",
    "mol_8 = qf.system_factory(\n",
    "    build_type='pyscf', \n",
    "    symmetry=symm_str,\n",
    "    mol_geometry=ene(variant='8-ene'), \n",
    "    basis=basis_set, \n",
    "    run_fci=True, \n",
    "    use_avas=True, #                     <=====\n",
    "    avas_atoms_or_orbitals=avas_atoms_and_atomic_orbs,\n",
    "    run_ccsd=False,\n",
    "    store_mo_ints=True,\n",
    "    build_df_ham=False,\n",
    "    num_frozen_uocc = fuocc,\n",
    "    num_frozen_docc = fdocc,\n",
    "    build_qb_ham = False,\n",
    "    )\n",
    "\n",
    "\n",
    "print(f'The FCI energy from Pyscf:         {mol_8.fci_energy:12.10f}')\n",
    "print(f'The SCF energy from Pyscf:         {mol_8.hf_energy:12.10f}')\n",
    "\n",
    "## ====> Build Qforte Mol with PySCF (using AVAS) <==== ###\n",
    "mol_12 = qf.system_factory(\n",
    "    build_type='pyscf', \n",
    "    symmetry=symm_str,\n",
    "    mol_geometry=ene(variant='12-ene'), \n",
    "    basis=basis_set, \n",
    "    run_fci=True, \n",
    "    use_avas=True, #                     <=====\n",
    "    avas_atoms_or_orbitals=avas_atoms_and_atomic_orbs,\n",
    "    run_ccsd=False,\n",
    "    store_mo_ints=True,\n",
    "    build_df_ham=False,\n",
    "    num_frozen_uocc = fuocc,\n",
    "    num_frozen_docc = fdocc,\n",
    "    build_qb_ham = False,\n",
    "    )\n",
    "\n",
    "\n",
    "print(f'The FCI energy from Pyscf:         {mol_12.fci_energy:12.10f}')\n",
    "print(f'The SCF energy from Pyscf:         {mol_12.hf_energy:12.10f}')"
   ]
  },
  {
   "cell_type": "code",
   "execution_count": null,
   "metadata": {},
   "outputs": [],
   "source": [
    "e_8_path_t1 = run_qite(\n",
    "    mol_8,\n",
    "    beta=0.0,\n",
    "    db=0.1,\n",
    "    expansion_type='All',\n",
    "    second_order=True,\n",
    "    selected_pool=True,\n",
    "    t_thresh=theta_1,\n",
    "    conv_thresh=1.0e-4,\n",
    "    physical_r = True,\n",
    "    output_path=e_path)"
   ]
  },
  {
   "cell_type": "code",
   "execution_count": null,
   "metadata": {},
   "outputs": [],
   "source": [
    "e_8_path_t2 = run_qite(\n",
    "    mol_8,\n",
    "    beta=0.0,\n",
    "    db=0.1,\n",
    "    expansion_type='All',\n",
    "    second_order=True,\n",
    "    selected_pool=True,\n",
    "    t_thresh=theta_2,\n",
    "    conv_thresh=1.0e-4,\n",
    "    physical_r = True,\n",
    "    output_path=e_path)"
   ]
  },
  {
   "cell_type": "code",
   "execution_count": null,
   "metadata": {},
   "outputs": [],
   "source": [
    "e_8_path_t3 = run_qite(\n",
    "    mol_8,\n",
    "    beta=0.0,\n",
    "    db=0.1,\n",
    "    expansion_type='All',\n",
    "    second_order=True,\n",
    "    selected_pool=True,\n",
    "    t_thresh=theta_3,\n",
    "    conv_thresh=1.0e-4,\n",
    "    physical_r = True,\n",
    "    output_path=e_path)"
   ]
  },
  {
   "cell_type": "code",
   "execution_count": null,
   "metadata": {},
   "outputs": [],
   "source": [
    "e_12_path_t1 = run_qite(\n",
    "    mol_8,\n",
    "    beta=0.0,\n",
    "    db=0.1,\n",
    "    expansion_type='All',\n",
    "    second_order=True,\n",
    "    selected_pool=True,\n",
    "    t_thresh=theta_1,\n",
    "    conv_thresh=1.0e-4,\n",
    "    physical_r = True,\n",
    "    output_path=t_path)"
   ]
  },
  {
   "cell_type": "code",
   "execution_count": null,
   "metadata": {},
   "outputs": [],
   "source": [
    "e_12_path_t2 = run_qite(\n",
    "    mol_8,\n",
    "    beta=0.0,\n",
    "    db=0.1,\n",
    "    expansion_type='All',\n",
    "    second_order=True,\n",
    "    selected_pool=True,\n",
    "    t_thresh=theta_2,\n",
    "    conv_thresh=1.0e-4,\n",
    "    physical_r = True,\n",
    "    output_path=t_path)"
   ]
  },
  {
   "cell_type": "code",
   "execution_count": null,
   "metadata": {},
   "outputs": [],
   "source": [
    "e_12_path_t3 = run_qite(\n",
    "    mol_8,\n",
    "    beta=0.0,\n",
    "    db=0.1,\n",
    "    expansion_type='All',\n",
    "    second_order=True,\n",
    "    selected_pool=True,\n",
    "    t_thresh=theta_3,\n",
    "    conv_thresh=1.0e-4,\n",
    "    physical_r = True,\n",
    "    output_path=t_path)"
   ]
  },
  {
   "cell_type": "code",
   "execution_count": null,
   "metadata": {},
   "outputs": [],
   "source": [
    "print(e_8_path_t1)\n",
    "print(e_8_path_t2)\n",
    "print(e_8_path_t3)\n",
    "\n",
    "print(e_12_path_t1)\n",
    "print(e_12_path_t2)\n",
    "print(e_12_path_t3)"
   ]
  }
 ],
 "metadata": {
  "language_info": {
   "name": "python"
  }
 },
 "nbformat": 4,
 "nbformat_minor": 2
}
