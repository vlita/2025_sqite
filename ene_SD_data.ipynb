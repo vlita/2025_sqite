{
 "cells": [
  {
   "cell_type": "code",
   "execution_count": 4,
   "metadata": {},
   "outputs": [
    {
     "ename": "ModuleNotFoundError",
     "evalue": "No module named 'pyscf'",
     "output_type": "error",
     "traceback": [
      "\u001b[0;31m---------------------------------------------------------------------------\u001b[0m",
      "\u001b[0;31mModuleNotFoundError\u001b[0m                       Traceback (most recent call last)",
      "Cell \u001b[0;32mIn[4], line 1\u001b[0m\n\u001b[0;32m----> 1\u001b[0m \u001b[38;5;28;01mimport\u001b[39;00m \u001b[38;5;21;01mpyscf\u001b[39;00m\n\u001b[1;32m      2\u001b[0m \u001b[38;5;28;01mfrom\u001b[39;00m \u001b[38;5;21;01mpyscf\u001b[39;00m \u001b[38;5;28;01mimport\u001b[39;00m gto, scf, mp, fci, ao2mo, symm, mcscf\n\u001b[1;32m      3\u001b[0m \u001b[38;5;28;01mfrom\u001b[39;00m \u001b[38;5;21;01mpyscf\u001b[39;00m\u001b[38;5;21;01m.\u001b[39;00m\u001b[38;5;21;01mmcscf\u001b[39;00m \u001b[38;5;28;01mimport\u001b[39;00m avas\n",
      "\u001b[0;31mModuleNotFoundError\u001b[0m: No module named 'pyscf'"
     ]
    }
   ],
   "source": [
    "import numpy as np\n",
    "import qforte as qf\n",
    "import matplotlib.pyplot as plt\n",
    "\n",
    "from run_job import run_qite\n",
    "\n",
    "from geometries.ene import get_geom as ene"
   ]
  },
  {
   "cell_type": "code",
   "execution_count": 2,
   "metadata": {},
   "outputs": [],
   "source": [
    "e_path = '/home/victorlucalita/src/my_qforte/2025_sqite/ene/eight/'\n",
    "t_path = '/home/victorlucalita/src/my_qforte/2025_sqite/ene/twelve/'"
   ]
  },
  {
   "cell_type": "code",
   "execution_count": 3,
   "metadata": {},
   "outputs": [
    {
     "name": "stdout",
     "output_type": "stream",
     "text": [
      "\n",
      "Build Geometry\n",
      "-------------------------\n"
     ]
    },
    {
     "ename": "ImportError",
     "evalue": "PySCF was not imported correctely.",
     "output_type": "error",
     "traceback": [
      "\u001b[0;31m---------------------------------------------------------------------------\u001b[0m",
      "\u001b[0;31mImportError\u001b[0m                               Traceback (most recent call last)",
      "Cell \u001b[0;32mIn[3], line 12\u001b[0m\n\u001b[1;32m      9\u001b[0m avas_atoms_and_atomic_orbs \u001b[38;5;241m=\u001b[39m [\u001b[38;5;124m'\u001b[39m\u001b[38;5;124mC 2pz\u001b[39m\u001b[38;5;124m'\u001b[39m]\n\u001b[1;32m     11\u001b[0m \u001b[38;5;66;03m## ====> Build Qforte Mol with PySCF (using AVAS) <==== ###\u001b[39;00m\n\u001b[0;32m---> 12\u001b[0m mol \u001b[38;5;241m=\u001b[39m \u001b[43mqf\u001b[49m\u001b[38;5;241;43m.\u001b[39;49m\u001b[43msystem_factory\u001b[49m\u001b[43m(\u001b[49m\n\u001b[1;32m     13\u001b[0m \u001b[43m    \u001b[49m\u001b[43mbuild_type\u001b[49m\u001b[38;5;241;43m=\u001b[39;49m\u001b[38;5;124;43m'\u001b[39;49m\u001b[38;5;124;43mpyscf\u001b[39;49m\u001b[38;5;124;43m'\u001b[39;49m\u001b[43m,\u001b[49m\u001b[43m \u001b[49m\n\u001b[1;32m     14\u001b[0m \u001b[43m    \u001b[49m\u001b[43msymmetry\u001b[49m\u001b[38;5;241;43m=\u001b[39;49m\u001b[43msymm_str\u001b[49m\u001b[43m,\u001b[49m\n\u001b[1;32m     15\u001b[0m \u001b[43m    \u001b[49m\u001b[43mmol_geometry\u001b[49m\u001b[38;5;241;43m=\u001b[39;49m\u001b[43mene\u001b[49m\u001b[43m(\u001b[49m\u001b[43mvariant\u001b[49m\u001b[38;5;241;43m=\u001b[39;49m\u001b[38;5;124;43m'\u001b[39;49m\u001b[38;5;124;43m8-ene\u001b[39;49m\u001b[38;5;124;43m'\u001b[39;49m\u001b[43m)\u001b[49m\u001b[43m,\u001b[49m\u001b[43m \u001b[49m\n\u001b[1;32m     16\u001b[0m \u001b[43m    \u001b[49m\u001b[43mbasis\u001b[49m\u001b[38;5;241;43m=\u001b[39;49m\u001b[43mbasis_set\u001b[49m\u001b[43m,\u001b[49m\u001b[43m \u001b[49m\n\u001b[1;32m     17\u001b[0m \u001b[43m    \u001b[49m\u001b[43mrun_fci\u001b[49m\u001b[38;5;241;43m=\u001b[39;49m\u001b[38;5;28;43;01mTrue\u001b[39;49;00m\u001b[43m,\u001b[49m\u001b[43m \u001b[49m\n\u001b[1;32m     18\u001b[0m \u001b[43m    \u001b[49m\u001b[43muse_avas\u001b[49m\u001b[38;5;241;43m=\u001b[39;49m\u001b[38;5;28;43;01mTrue\u001b[39;49;00m\u001b[43m,\u001b[49m\u001b[43m \u001b[49m\u001b[38;5;66;43;03m#                     <=====\u001b[39;49;00m\n\u001b[1;32m     19\u001b[0m \u001b[43m    \u001b[49m\u001b[43mavas_atoms_or_orbitals\u001b[49m\u001b[38;5;241;43m=\u001b[39;49m\u001b[43mavas_atoms_and_atomic_orbs\u001b[49m\u001b[43m,\u001b[49m\n\u001b[1;32m     20\u001b[0m \u001b[43m    \u001b[49m\u001b[43mrun_ccsd\u001b[49m\u001b[38;5;241;43m=\u001b[39;49m\u001b[38;5;28;43;01mFalse\u001b[39;49;00m\u001b[43m,\u001b[49m\n\u001b[1;32m     21\u001b[0m \u001b[43m    \u001b[49m\u001b[43mstore_mo_ints\u001b[49m\u001b[38;5;241;43m=\u001b[39;49m\u001b[38;5;28;43;01mTrue\u001b[39;49;00m\u001b[43m,\u001b[49m\n\u001b[1;32m     22\u001b[0m \u001b[43m    \u001b[49m\u001b[43mbuild_df_ham\u001b[49m\u001b[38;5;241;43m=\u001b[39;49m\u001b[38;5;28;43;01mFalse\u001b[39;49;00m\u001b[43m,\u001b[49m\n\u001b[1;32m     23\u001b[0m \u001b[43m    \u001b[49m\u001b[43mnum_frozen_uocc\u001b[49m\u001b[43m \u001b[49m\u001b[38;5;241;43m=\u001b[39;49m\u001b[43m \u001b[49m\u001b[43mfuocc\u001b[49m\u001b[43m,\u001b[49m\n\u001b[1;32m     24\u001b[0m \u001b[43m    \u001b[49m\u001b[43mnum_frozen_docc\u001b[49m\u001b[43m \u001b[49m\u001b[38;5;241;43m=\u001b[39;49m\u001b[43m \u001b[49m\u001b[43mfdocc\u001b[49m\u001b[43m,\u001b[49m\n\u001b[1;32m     25\u001b[0m \u001b[43m    \u001b[49m\u001b[43mbuild_qb_ham\u001b[49m\u001b[43m \u001b[49m\u001b[38;5;241;43m=\u001b[39;49m\u001b[43m \u001b[49m\u001b[38;5;28;43;01mFalse\u001b[39;49;00m\u001b[43m,\u001b[49m\n\u001b[1;32m     26\u001b[0m \u001b[43m    \u001b[49m\u001b[43m)\u001b[49m\n\u001b[1;32m     29\u001b[0m \u001b[38;5;28mprint\u001b[39m(\u001b[38;5;124mf\u001b[39m\u001b[38;5;124m'\u001b[39m\u001b[38;5;124mThe FCI energy from Pyscf:         \u001b[39m\u001b[38;5;132;01m{\u001b[39;00mmol\u001b[38;5;241m.\u001b[39mfci_energy\u001b[38;5;132;01m:\u001b[39;00m\u001b[38;5;124m12.10f\u001b[39m\u001b[38;5;132;01m}\u001b[39;00m\u001b[38;5;124m'\u001b[39m)\n\u001b[1;32m     30\u001b[0m \u001b[38;5;28mprint\u001b[39m(\u001b[38;5;124mf\u001b[39m\u001b[38;5;124m'\u001b[39m\u001b[38;5;124mThe SCF energy from Pyscf:         \u001b[39m\u001b[38;5;132;01m{\u001b[39;00mmol\u001b[38;5;241m.\u001b[39mhf_energy\u001b[38;5;132;01m:\u001b[39;00m\u001b[38;5;124m12.10f\u001b[39m\u001b[38;5;132;01m}\u001b[39;00m\u001b[38;5;124m'\u001b[39m)\n",
      "File \u001b[0;32m~/src/my_qforte/qforte/src/qforte/system/system_factory.py:61\u001b[0m, in \u001b[0;36msystem_factory\u001b[0;34m(system_type, build_type, **kwargs)\u001b[0m\n\u001b[1;32m     <a href='file:///home/victorlucalita/src/my_qforte/qforte/src/qforte/system/system_factory.py?line=57'>58</a>\u001b[0m \u001b[39melse\u001b[39;00m:\n\u001b[1;32m     <a href='file:///home/victorlucalita/src/my_qforte/qforte/src/qforte/system/system_factory.py?line=58'>59</a>\u001b[0m     \u001b[39mraise\u001b[39;00m \u001b[39mTypeError\u001b[39;00m(\u001b[39m\"\u001b[39m\u001b[39msystem type not supported, supported types are \u001b[39m\u001b[39m'\u001b[39m\u001b[39mmolecule\u001b[39m\u001b[39m'\u001b[39m\u001b[39m and \u001b[39m\u001b[39m'\u001b[39m\u001b[39mmodel\u001b[39m\u001b[39m'\u001b[39m\u001b[39m.\u001b[39m\u001b[39m\"\u001b[39m)\n\u001b[0;32m---> <a href='file:///home/victorlucalita/src/my_qforte/qforte/src/qforte/system/system_factory.py?line=60'>61</a>\u001b[0m \u001b[39mreturn\u001b[39;00m adapter(\u001b[39m*\u001b[39;49m\u001b[39m*\u001b[39;49mkwargs)\n",
      "File \u001b[0;32m~/src/my_qforte/qforte/src/qforte/adapters/molecule_adapters.py:489\u001b[0m, in \u001b[0;36mcreate_pyscf_mol\u001b[0;34m(**kwargs)\u001b[0m\n\u001b[1;32m    <a href='file:///home/victorlucalita/src/my_qforte/qforte/src/qforte/adapters/molecule_adapters.py?line=480'>481</a>\u001b[0m qforte_mol \u001b[39m=\u001b[39m Molecule(\n\u001b[1;32m    <a href='file:///home/victorlucalita/src/my_qforte/qforte/src/qforte/adapters/molecule_adapters.py?line=481'>482</a>\u001b[0m     mol_geometry \u001b[39m=\u001b[39m mol_geometry,\n\u001b[1;32m    <a href='file:///home/victorlucalita/src/my_qforte/qforte/src/qforte/adapters/molecule_adapters.py?line=482'>483</a>\u001b[0m     basis \u001b[39m=\u001b[39m basis,\n\u001b[1;32m    <a href='file:///home/victorlucalita/src/my_qforte/qforte/src/qforte/adapters/molecule_adapters.py?line=483'>484</a>\u001b[0m     multiplicity \u001b[39m=\u001b[39m multiplicity,\n\u001b[1;32m    <a href='file:///home/victorlucalita/src/my_qforte/qforte/src/qforte/adapters/molecule_adapters.py?line=484'>485</a>\u001b[0m     charge \u001b[39m=\u001b[39m charge,\n\u001b[1;32m    <a href='file:///home/victorlucalita/src/my_qforte/qforte/src/qforte/adapters/molecule_adapters.py?line=485'>486</a>\u001b[0m     nroots_fci \u001b[39m=\u001b[39m nroots_fci)\n\u001b[1;32m    <a href='file:///home/victorlucalita/src/my_qforte/qforte/src/qforte/adapters/molecule_adapters.py?line=487'>488</a>\u001b[0m \u001b[39mif\u001b[39;00m \u001b[39mnot\u001b[39;00m use_pyscf:\n\u001b[0;32m--> <a href='file:///home/victorlucalita/src/my_qforte/qforte/src/qforte/adapters/molecule_adapters.py?line=488'>489</a>\u001b[0m     \u001b[39mraise\u001b[39;00m \u001b[39mImportError\u001b[39;00m(\u001b[39m\"\u001b[39m\u001b[39mPySCF was not imported correctely.\u001b[39m\u001b[39m\"\u001b[39m)\n\u001b[1;32m    <a href='file:///home/victorlucalita/src/my_qforte/qforte/src/qforte/adapters/molecule_adapters.py?line=490'>491</a>\u001b[0m \u001b[39m# By default, the number of frozen orbitals is set to zero\u001b[39;00m\n\u001b[1;32m    <a href='file:///home/victorlucalita/src/my_qforte/qforte/src/qforte/adapters/molecule_adapters.py?line=491'>492</a>\u001b[0m kwargs\u001b[39m.\u001b[39msetdefault(\u001b[39m'\u001b[39m\u001b[39mnum_frozen_docc\u001b[39m\u001b[39m'\u001b[39m, \u001b[39m0\u001b[39m)\n",
      "\u001b[0;31mImportError\u001b[0m: PySCF was not imported correctely."
     ]
    }
   ],
   "source": [
    "print('\\nBuild Geometry')\n",
    "print('-------------------------')\n",
    "\n",
    "symm_str = 'c1'\n",
    "fdocc = 0\n",
    "fuocc = 0\n",
    "\n",
    "basis_set = 'cc-pvdz'\n",
    "avas_atoms_and_atomic_orbs = ['C 2pz']\n",
    "\n",
    "## ====> Build Qforte Mol with PySCF (using AVAS) <==== ###\n",
    "mol_8 = qf.system_factory(\n",
    "    build_type='pyscf', \n",
    "    symmetry=symm_str,\n",
    "    mol_geometry=ene(variant='8-ene'), \n",
    "    basis=basis_set, \n",
    "    run_fci=True, \n",
    "    use_avas=True, #                     <=====\n",
    "    avas_atoms_or_orbitals=avas_atoms_and_atomic_orbs,\n",
    "    run_ccsd=False,\n",
    "    store_mo_ints=True,\n",
    "    build_df_ham=False,\n",
    "    num_frozen_uocc = fuocc,\n",
    "    num_frozen_docc = fdocc,\n",
    "    build_qb_ham = False,\n",
    "    )\n",
    "\n",
    "\n",
    "print(f'The FCI energy from Pyscf:         {mol_8.fci_energy:12.10f}')\n",
    "print(f'The SCF energy from Pyscf:         {mol_8.hf_energy:12.10f}')\n",
    "\n",
    "## ====> Build Qforte Mol with PySCF (using AVAS) <==== ###\n",
    "mol_12 = qf.system_factory(\n",
    "    build_type='pyscf', \n",
    "    symmetry=symm_str,\n",
    "    mol_geometry=ene(variant='12-ene'), \n",
    "    basis=basis_set, \n",
    "    run_fci=True, \n",
    "    use_avas=True, #                     <=====\n",
    "    avas_atoms_or_orbitals=avas_atoms_and_atomic_orbs,\n",
    "    run_ccsd=False,\n",
    "    store_mo_ints=True,\n",
    "    build_df_ham=False,\n",
    "    num_frozen_uocc = fuocc,\n",
    "    num_frozen_docc = fdocc,\n",
    "    build_qb_ham = False,\n",
    "    )\n",
    "\n",
    "\n",
    "print(f'The FCI energy from Pyscf:         {mol_12.fci_energy:12.10f}')\n",
    "print(f'The SCF energy from Pyscf:         {mol_12.hf_energy:12.10f}')"
   ]
  },
  {
   "cell_type": "code",
   "execution_count": null,
   "metadata": {},
   "outputs": [],
   "source": []
  }
 ],
 "metadata": {
  "interpreter": {
   "hash": "2480f8e21f8f21bc21866d73978e1e4f2a2ecdee65f88b13b212c2280be8188b"
  },
  "kernelspec": {
   "display_name": "Python 3.8.19 ('qf1')",
   "language": "python",
   "name": "python3"
  },
  "language_info": {
   "codemirror_mode": {
    "name": "ipython",
    "version": 3
   },
   "file_extension": ".py",
   "mimetype": "text/x-python",
   "name": "python",
   "nbconvert_exporter": "python",
   "pygments_lexer": "ipython3",
   "version": "3.8.19"
  },
  "orig_nbformat": 4
 },
 "nbformat": 4,
 "nbformat_minor": 2
}
