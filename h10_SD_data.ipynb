{
 "cells": [
  {
   "cell_type": "code",
   "execution_count": null,
   "metadata": {},
   "outputs": [],
   "source": [
    "import numpy as np\n",
    "import qforte as qf\n",
    "import matplotlib.pyplot as plt\n",
    "\n",
    "from run_job import run_qite\n",
    "\n",
    "from geometries.chain_geom import get_h10chain_geom as chain\n",
    "from geometries.pyramid_geom import get_h10pyr_geom as pyrmd\n",
    "from geometries.ring_geom import get_h10ring_geom as ring\n",
    "from geometries.sheet_geom import get_h10sheet_geom as sheet"
   ]
  },
  {
   "cell_type": "code",
   "execution_count": null,
   "metadata": {},
   "outputs": [],
   "source": [
    "c_path_1 = '/home/victorlucalita/src/my_qforte/2025_sqite/h10/ang_10/chain/'\n",
    "r_path_1 = '/home/victorlucalita/src/my_qforte/2025_sqite/h10/ang_10/ring/'\n",
    "s_path_1 = '/home/victorlucalita/src/my_qforte/2025_sqite/h10/ang_10/sheet/'\n",
    "p_path_1 = '/home/victorlucalita/src/my_qforte/2025_sqite/h10/ang_10/pyramid/'\n",
    "\n",
    "c_path_15 = '/home/victorlucalita/src/my_qforte/2025_sqite/h10/ang_15/chain/'\n",
    "r_path_15 = '/home/victorlucalita/src/my_qforte/2025_sqite/h10/ang_15/ring/'\n",
    "s_path_15 = '/home/victorlucalita/src/my_qforte/2025_sqite/h10/ang_15/sheet/'\n",
    "p_path_15 = '/home/victorlucalita/src/my_qforte/2025_sqite/h10/ang_15/pyramid/'"
   ]
  },
  {
   "cell_type": "code",
   "execution_count": null,
   "metadata": {},
   "outputs": [],
   "source": [
    "chain_mol_1 = qf.system_factory(build_type='psi4', mol_geometry=chain(1.0), basis='sto-6g', run_fci=True)\n",
    "print(f'The FCI energy from Psi4:                                    {chain_mol_1.fci_energy:12.10f}')\n",
    "print(f'The HF energy from Psi4:                                     {chain_mol_1.hf_energy:12.10f}')\n",
    "\n",
    "ring_mol_1 = qf.system_factory(build_type='psi4', mol_geometry=ring(1.0), basis='sto-6g', run_fci=True)\n",
    "print(f'The FCI energy from Psi4:                                    {ring_mol_1.fci_energy:12.10f}')\n",
    "print(f'The HF energy from Psi4:                                     {ring_mol_1.hf_energy:12.10f}')\n",
    "\n",
    "sheet_mol_1 = qf.system_factory(build_type='psi4', mol_geometry=sheet(1.0), basis='sto-6g', run_fci=True)\n",
    "print(f'The FCI energy from Psi4:                                    {sheet_mol_1.fci_energy:12.10f}')\n",
    "print(f'The HF energy from Psi4:                                     {sheet_mol_1.hf_energy:12.10f}')\n",
    "\n",
    "pyrmd_mol_1 = qf.system_factory(build_type='psi4', mol_geometry=pyrmd(1.0), basis='sto-6g', run_fci=True)\n",
    "print(f'The FCI energy from Psi4:                                    {pyrmd_mol_1.fci_energy:12.10f}')\n",
    "print(f'The HF energy from Psi4:                                     {pyrmd_mol_1.hf_energy:12.10f}')\n",
    "\n",
    "chain_mol_15 = qf.system_factory(build_type='psi4', mol_geometry=chain(1.5), basis='sto-6g', run_fci=True)\n",
    "print(f'The FCI energy from Psi4:                                    {chain_mol_15.fci_energy:12.10f}')\n",
    "print(f'The HF energy from Psi4:                                     {chain_mol_15.hf_energy:12.10f}')\n",
    "\n",
    "ring_mol_15 = qf.system_factory(build_type='psi4', mol_geometry=ring(1.5), basis='sto-6g', run_fci=True)\n",
    "print(f'The FCI energy from Psi4:                                    {ring_mol_15.fci_energy:12.10f}')\n",
    "print(f'The HF energy from Psi4:                                     {ring_mol_15.hf_energy:12.10f}')\n",
    "\n",
    "sheet_mol_15 = qf.system_factory(build_type='psi4', mol_geometry=sheet(1.5), basis='sto-6g', run_fci=True)\n",
    "print(f'The FCI energy from Psi4:                                    {sheet_mol_15.fci_energy:12.10f}')\n",
    "print(f'The HF energy from Psi4:                                     {sheet_mol_15.hf_energy:12.10f}')\n",
    "\n",
    "pyrmd_mol_15 = qf.system_factory(build_type='psi4', mol_geometry=pyrmd(1.5), basis='sto-6g', run_fci=True)\n",
    "print(f'The FCI energy from Psi4:                                    {pyrmd_mol_15.fci_energy:12.10f}')\n",
    "print(f'The HF energy from Psi4:                                     {pyrmd_mol_15.hf_energy:12.10f}')"
   ]
  },
  {
   "cell_type": "code",
   "execution_count": null,
   "metadata": {},
   "outputs": [],
   "source": [
    "chain_path_1 = run_qite(\n",
    "    chain_mol_1,\n",
    "    beta=0.0,\n",
    "    db=0.1,\n",
    "    expansion_type='SD',\n",
    "    low_memorySb=True,\n",
    "    second_order=True,\n",
    "    conv_thresh=1.0e-4,\n",
    "    output_path=c_path_1)"
   ]
  },
  {
   "cell_type": "code",
   "execution_count": null,
   "metadata": {},
   "outputs": [],
   "source": [
    "ring_path_1 = run_qite(\n",
    "    ring_mol_1,\n",
    "    beta=0.0,\n",
    "    db=0.1,\n",
    "    expansion_type='SD',\n",
    "    low_memorySb=True,\n",
    "    second_order=True,\n",
    "    conv_thresh=1.0e-4,\n",
    "    output_path=r_path_1)"
   ]
  },
  {
   "cell_type": "code",
   "execution_count": null,
   "metadata": {},
   "outputs": [],
   "source": [
    "sheet_path_1 = run_qite(\n",
    "    sheet_mol_1,\n",
    "    beta=0.0,\n",
    "    db=0.1,\n",
    "    expansion_type='SD',\n",
    "    low_memorySb=True,\n",
    "    second_order=True,\n",
    "    conv_thresh=1.0e-4,\n",
    "    output_path=s_path_1)"
   ]
  },
  {
   "cell_type": "code",
   "execution_count": null,
   "metadata": {},
   "outputs": [],
   "source": [
    "pyrmd_path_1 = run_qite(\n",
    "    pyrmd_mol_1,\n",
    "    beta=0.0,\n",
    "    db=0.1,\n",
    "    expansion_type='SD',\n",
    "    low_memorySb=True,\n",
    "    second_order=True,\n",
    "    conv_thresh=1.0e-4,\n",
    "    output_path=p_path_1)"
   ]
  },
  {
   "cell_type": "code",
   "execution_count": null,
   "metadata": {},
   "outputs": [],
   "source": [
    "chain_path_15 = run_qite(\n",
    "    chain_mol_15,\n",
    "    beta=0.0,\n",
    "    db=0.1,\n",
    "    expansion_type='SD',\n",
    "    low_memorySb=True,\n",
    "    second_order=True,\n",
    "    conv_thresh=1.0e-4,\n",
    "    output_path=c_path_15)"
   ]
  },
  {
   "cell_type": "code",
   "execution_count": null,
   "metadata": {},
   "outputs": [],
   "source": [
    "ring_path_15 = run_qite(\n",
    "    ring_mol_15,\n",
    "    beta=0.0,\n",
    "    db=0.1,\n",
    "    expansion_type='SD',\n",
    "    low_memorySb=True,\n",
    "    second_order=True,\n",
    "    conv_thresh=1.0e-4,\n",
    "    output_path=r_path_15)"
   ]
  },
  {
   "cell_type": "code",
   "execution_count": null,
   "metadata": {},
   "outputs": [],
   "source": [
    "sheet_path_15 = run_qite(\n",
    "    sheet_mol_15,\n",
    "    beta=0.0,\n",
    "    db=0.1,\n",
    "    expansion_type='SD',\n",
    "    low_memorySb=True,\n",
    "    second_order=True,\n",
    "    conv_thresh=1.0e-4,\n",
    "    output_path=s_path_15)"
   ]
  },
  {
   "cell_type": "code",
   "execution_count": null,
   "metadata": {},
   "outputs": [],
   "source": [
    "pyrmd_path_15 = run_qite(\n",
    "    pyrmd_mol_15,\n",
    "    beta=0.0,\n",
    "    db=0.1,\n",
    "    expansion_type='SD',\n",
    "    low_memorySb=True,\n",
    "    second_order=True,\n",
    "    conv_thresh=1.0e-4,\n",
    "    output_path=p_path_15)"
   ]
  },
  {
   "cell_type": "code",
   "execution_count": null,
   "metadata": {},
   "outputs": [],
   "source": [
    "print(chain_path_1)\n",
    "print(ring_path_1)\n",
    "print(sheet_path_1)\n",
    "print(pyrmd_path_1)\n",
    "\n",
    "print(chain_path_15)\n",
    "print(ring_path_15)\n",
    "print(sheet_path_15)\n",
    "print(pyrmd_path_15)"
   ]
  }
 ],
 "metadata": {
  "interpreter": {
   "hash": "2480f8e21f8f21bc21866d73978e1e4f2a2ecdee65f88b13b212c2280be8188b"
  },
  "kernelspec": {
   "display_name": "Python 3.8.19 ('qf1')",
   "language": "python",
   "name": "python3"
  },
  "language_info": {
   "codemirror_mode": {
    "name": "ipython",
    "version": 3
   },
   "file_extension": ".py",
   "mimetype": "text/x-python",
   "name": "python",
   "nbconvert_exporter": "python",
   "pygments_lexer": "ipython3",
   "version": "3.8.19"
  },
  "orig_nbformat": 4
 },
 "nbformat": 4,
 "nbformat_minor": 2
}
