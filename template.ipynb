{
 "cells": [
  {
   "cell_type": "code",
   "execution_count": null,
   "metadata": {},
   "outputs": [],
   "source": [
    "import numpy as np\n",
    "import matplotlib.pyplot as plt\n",
    "\n",
    "from run_job import run_qite\n",
    "from qforte import Molecule, system_factory\n",
    "\n",
    "from geometries.chain_geom import get_h10chain_geom as chain\n",
    "from geometries.pyramid_geom import get_h10pyr_geom as pyrmd\n",
    "from geometries.ring_geom import get_h10ring_geom as ring\n",
    "from geometries.sheet_geom import get_h10sheet_geom as sheet"
   ]
  },
  {
   "cell_type": "code",
   "execution_count": null,
   "metadata": {},
   "outputs": [],
   "source": [
    "h10_path = '/home/vlita/Desktop/rsrch/2025_sqite/h10/'\n",
    "polyacine_path = '/home/vlita/Desktop/rsrch/2025_sqite/polyacine/'\n",
    "\n",
    "mol = system_factory(build_type='psi4', mol_geometry=chain(0.50), basis='sto-6g', run_fci=True)\n",
    "print(f'The FCI energy from Psi4:                                    {mol.fci_energy:12.10f}')\n",
    "print(f'The HF energy from Psi4:                                     {mol.hf_energy:12.10f}')"
   ]
  },
  {
   "cell_type": "code",
   "execution_count": null,
   "metadata": {},
   "outputs": [],
   "source": [
    "h10_beta, h10_energy, h10_param, h10_cnot, h10_measure = run_qite(\n",
    "    mol,\n",
    "    beta=1.0,\n",
    "    db=0.2,\n",
    "    dt=0.01,\n",
    "    expansion_type='SD',\n",
    "    second_order=True,\n",
    "    output_path=h10_path)\n",
    "\n",
    "\n",
    "b = [float(item) for item in h10_beta]\n",
    "e = [abs(float(item) - mol.fci_energy) for item in h10_energy]\n",
    "p = [int(item) for item in h10_param]\n",
    "c = [int(item) for item in h10_cnot]\n",
    "m = [int(item) for item in h10_measure]"
   ]
  },
  {
   "cell_type": "code",
   "execution_count": null,
   "metadata": {},
   "outputs": [],
   "source": [
    "plt.plot(b, np.log(e), label='QITE Energy Error', linestyle='-', color='red')\n",
    "plt.axhline(y=-5, color='grey', linestyle='-', label='chemical accuracy')\n",
    "\n",
    "plt.xlabel('β (a.u.)')\n",
    "plt.ylabel('Energy Error (ln a.u.)')\n",
    "plt.title(f'QITE Energy Error for H10 at 0.5 Å (β = 1.0, Δβ = 0.2)')\n",
    "\n",
    "# Add a legend\n",
    "plt.legend()\n",
    "\n",
    "# Show the plot\n",
    "plt.show()"
   ]
  }
 ],
 "metadata": {
  "kernelspec": {
   "display_name": "qforte_env",
   "language": "python",
   "name": "python3"
  },
  "language_info": {
   "codemirror_mode": {
    "name": "ipython",
    "version": 3
   },
   "file_extension": ".py",
   "mimetype": "text/x-python",
   "name": "python",
   "nbconvert_exporter": "python",
   "pygments_lexer": "ipython3",
   "version": "3.8.19"
  }
 },
 "nbformat": 4,
 "nbformat_minor": 2
}
